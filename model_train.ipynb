{
  "cells": [
    {
      "cell_type": "code",
      "source": [
        "import numpy as np\n",
        "import pandas as pd\n",
        "import torch\n",
        "import torch.nn as nn\n",
        "from model import MainModel, CosineWarmupScheduler, active2mask, generate_mask\n",
        "from new_dataset import LocalizationDataset\n",
        "from torch.utils.data import DataLoader\n",
        "from tqdm import tqdm\n",
        "import torch.optim as optim\n",
        "from ModelParams import ModelParams\n",
        "from matplotlib import pyplot as plt\n",
        "import matplotlib as mpl\n",
        "from IPython.display import clear_output\n",
        "device = 'cuda:0' if torch.cuda.is_available() else 'cpu'"
      ],
      "outputs": [],
      "execution_count": 1,
      "metadata": {
        "jupyter": {
          "source_hidden": false,
          "outputs_hidden": false
        },
        "nteract": {
          "transient": {
            "deleting": false
          }
        },
        "gather": {
          "logged": 1741642254454
        }
      },
      "id": "e2c14720-7df2-446e-84aa-b3dcf410214e"
    },
    {
      "cell_type": "code",
      "source": [
        "params = ModelParams()\n",
        "track_len = ModelParams().track_len\n",
        "\n",
        "device = 'cuda:0' if torch.cuda.is_available() else 'cpu'\n",
        "\n",
        "track_test = np.genfromtxt('tracks/tracks_test.csv')\n",
        "world_test = np.genfromtxt('worlds/worlds_test.csv').repeat(track_len, 0).reshape(track_test.shape[0], 10, 16)\n",
        "\n",
        "track_test_data = track_test.reshape(track_test.shape[0]//track_len, track_len, track_test.shape[1])\n",
        "env_test_data = world_test.reshape(world_test.shape[0]//track_len, track_len, params.map_size, params.map_size + 6)\n",
        "\n",
        "test_data = dict()\n",
        "test_data['tracks'] = track_test_data\n",
        "test_data['map'] = env_test_data\n",
        "\n",
        "test_dataset = LocalizationDataset(test_data)\n",
        "test_loader = DataLoader(test_dataset, batch_size=params.batch_size, pin_memory=True, shuffle=False)\n",
        "\n",
        "beacons_mu, beacons_std = torch.tensor(5, device='cuda:0', dtype=torch.float64), torch.tensor(2.8714, device='cuda:0', dtype=torch.float64)\n",
        "norm_vec = torch.tensor([10.0000, 10.0000,  2*torch.pi], device='cuda:0', dtype=torch.float64)\n",
        "\n",
        "bp_decay = params.bpdecay\n",
        "model = MainModel().to(device).float()\n",
        "\n",
        "epoch_best = 0\n",
        "optimizer = torch.optim.AdamW(model.parameters(), weight_decay=1e-3, lr=3e-4)\n",
        "model.train()\n",
        "for iteration, data in enumerate(test_loader):\n",
        "    model.zero_grad()\n",
        "    beacons, active0, measurement, motion, location = data\n",
        "    active = active0[:, 0].squeeze(2).to(device).float()\n",
        "    beacons = beacons[:, 0].to(device).float()\n",
        "    beacons[torch.isnan(beacons)] = 0\n",
        "    measurement = measurement.to(device).float()\n",
        "    motion = motion.to(device).float()\n",
        "    beacons = (beacons.to(device).float() - beacons_mu) / beacons_std\n",
        "    location = location.to(device).float()\n",
        "    loss, att, pred = model.step(motion, measurement, beacons, location, 0.0001, active)\n",
        "    loss.backward()\n",
        "print(pred.mean())\n",
        "print(att.mean())"
      ],
      "outputs": [
        {
          "output_type": "stream",
          "name": "stdout",
          "text": "tensor(0.5240, device='cuda:0', grad_fn=<MeanBackward0>)\ntensor(0.0500, device='cuda:0', grad_fn=<MeanBackward0>)\n"
        }
      ],
      "execution_count": 2,
      "metadata": {
        "jupyter": {
          "source_hidden": false,
          "outputs_hidden": false
        },
        "nteract": {
          "transient": {
            "deleting": false
          }
        },
        "gather": {
          "logged": 1741642339428
        }
      },
      "id": "d2684b13-bb6a-4d7e-82e1-c7f3cd6984e9"
    },
    {
      "cell_type": "code",
      "source": [
        "norms = {}\n",
        "min_grad_value = np.Inf\n",
        "for name, param in model.named_parameters():\n",
        "    try:\n",
        "        norms[name] = param.grad.view(-1).abs().pow(2).sum(-1).sqrt()\n",
        "        if norms[name] < min_grad_value and norms[name] > 1e-10:\n",
        "            min_grad_value = norms[name]\n",
        "            min_name = name\n",
        "        print(name, norms[name])\n",
        "    except AttributeError:\n",
        "        print('achtung')\n",
        "        print(name, param.grad)"
      ],
      "outputs": [
        {
          "output_type": "stream",
          "name": "stdout",
          "text": "hidden2label.0.weight tensor(10612.1396, device='cuda:0')\nhidden2label.0.bias tensor(467.5468, device='cuda:0')\nactobs_embedding.weight tensor(625.5948, device='cuda:0')\nactobs_embedding.bias tensor(113.4478, device='cuda:0')\nbeac_emb.weight tensor(841.3746, device='cuda:0')\nbeac_emb.bias tensor(517.1793, device='cuda:0')\nmap_enc.map_encoder1.att.in_proj_weight tensor(3438.6694, device='cuda:0')\nmap_enc.map_encoder1.att.in_proj_bias tensor(272.5698, device='cuda:0')\nmap_enc.map_encoder1.att.out_proj.weight tensor(4408.4731, device='cuda:0')\nmap_enc.map_encoder1.att.out_proj.bias tensor(480.4692, device='cuda:0')\nmap_enc.map_encoder1.norm1.weight tensor(380.8498, device='cuda:0')\nmap_enc.map_encoder1.norm1.bias tensor(313.9575, device='cuda:0')\nmap_enc.map_encoder1.norm2.weight tensor(387.7624, device='cuda:0')\nmap_enc.map_encoder1.norm2.bias tensor(324.1276, device='cuda:0')\nmap_enc.map_encoder1.two_layers.0.weight tensor(2317.5432, device='cuda:0')\nmap_enc.map_encoder1.two_layers.0.bias tensor(138.0989, device='cuda:0')\nmap_enc.map_encoder1.two_layers.3.weight tensor(4724.7812, device='cuda:0')\nmap_enc.map_encoder1.two_layers.3.bias tensor(312.2723, device='cuda:0')\nmap_enc.map_encoder2.att.in_proj_weight tensor(3337.9941, device='cuda:0')\nmap_enc.map_encoder2.att.in_proj_bias tensor(170.3639, device='cuda:0')\nmap_enc.map_encoder2.att.out_proj.weight tensor(4099.3613, device='cuda:0')\nmap_enc.map_encoder2.att.out_proj.bias tensor(311.4333, device='cuda:0')\nmap_enc.map_encoder2.norm1.weight tensor(396.7864, device='cuda:0')\nmap_enc.map_encoder2.norm1.bias tensor(335.2039, device='cuda:0')\nmap_enc.map_encoder2.norm2.weight tensor(413.2033, device='cuda:0')\nmap_enc.map_encoder2.norm2.bias tensor(334.4557, device='cuda:0')\nmap_enc.map_encoder2.two_layers.0.weight tensor(2323.9187, device='cuda:0')\nmap_enc.map_encoder2.two_layers.0.bias tensor(137.6598, device='cuda:0')\nmap_enc.map_encoder2.two_layers.3.weight tensor(4814.1807, device='cuda:0')\nmap_enc.map_encoder2.two_layers.3.bias tensor(325.6944, device='cuda:0')\nmap_enc.map_encoder3.att.in_proj_weight tensor(3323.1335, device='cuda:0')\nmap_enc.map_encoder3.att.in_proj_bias tensor(176.5282, device='cuda:0')\nmap_enc.map_encoder3.att.out_proj.weight tensor(4264.5327, device='cuda:0')\nmap_enc.map_encoder3.att.out_proj.bias tensor(295.8985, device='cuda:0')\nmap_enc.map_encoder3.norm1.weight tensor(367.7705, device='cuda:0')\nmap_enc.map_encoder3.norm1.bias tensor(307.3342, device='cuda:0')\nmap_enc.map_encoder3.norm2.weight tensor(367.9286, device='cuda:0')\nmap_enc.map_encoder3.norm2.bias tensor(313.4721, device='cuda:0')\nmap_enc.map_encoder3.two_layers.0.weight tensor(2250.3738, device='cuda:0')\nmap_enc.map_encoder3.two_layers.0.bias tensor(127.2019, device='cuda:0')\nmap_enc.map_encoder3.two_layers.3.weight tensor(4458.4395, device='cuda:0')\nmap_enc.map_encoder3.two_layers.3.bias tensor(298.4899, device='cuda:0')\nmap_enc.map_encoder4.att.in_proj_weight tensor(3342.6262, device='cuda:0')\nmap_enc.map_encoder4.att.in_proj_bias tensor(174.1754, device='cuda:0')\nmap_enc.map_encoder4.att.out_proj.weight tensor(4053.7256, device='cuda:0')\nmap_enc.map_encoder4.att.out_proj.bias tensor(294.2864, device='cuda:0')\nmap_enc.map_encoder4.norm1.weight tensor(379.9051, device='cuda:0')\nmap_enc.map_encoder4.norm1.bias tensor(314.4384, device='cuda:0')\nmap_enc.map_encoder4.norm2.weight tensor(387.3447, device='cuda:0')\nmap_enc.map_encoder4.norm2.bias tensor(308.8928, device='cuda:0')\nmap_enc.map_encoder4.two_layers.0.weight tensor(2321.5544, device='cuda:0')\nmap_enc.map_encoder4.two_layers.0.bias tensor(130.7713, device='cuda:0')\nmap_enc.map_encoder4.two_layers.3.weight tensor(4692.8335, device='cuda:0')\nmap_enc.map_encoder4.two_layers.3.bias tensor(302.6554, device='cuda:0')\nmap_enc.map_encoder5.att.in_proj_weight tensor(3456.9272, device='cuda:0')\nmap_enc.map_encoder5.att.in_proj_bias tensor(168.7782, device='cuda:0')\nmap_enc.map_encoder5.att.out_proj.weight tensor(4164.1230, device='cuda:0')\nmap_enc.map_encoder5.att.out_proj.bias tensor(286.0925, device='cuda:0')\nmap_enc.map_encoder5.norm1.weight tensor(382.2453, device='cuda:0')\nmap_enc.map_encoder5.norm1.bias tensor(290.1917, device='cuda:0')\nmap_enc.map_encoder5.norm2.weight tensor(361.6379, device='cuda:0')\nmap_enc.map_encoder5.norm2.bias tensor(282.3167, device='cuda:0')\nmap_enc.map_encoder5.two_layers.0.weight tensor(2261.4807, device='cuda:0')\nmap_enc.map_encoder5.two_layers.0.bias tensor(124.4626, device='cuda:0')\nmap_enc.map_encoder5.two_layers.3.weight tensor(4483.2275, device='cuda:0')\nmap_enc.map_encoder5.two_layers.3.bias tensor(277.0840, device='cuda:0')\nmap_enc.map_encoder6.att.in_proj_weight tensor(3116.3926, device='cuda:0')\nmap_enc.map_encoder6.att.in_proj_bias tensor(151.4706, device='cuda:0')\nmap_enc.map_encoder6.att.out_proj.weight tensor(3984.3943, device='cuda:0')\nmap_enc.map_encoder6.att.out_proj.bias tensor(261.1003, device='cuda:0')\nmap_enc.map_encoder6.norm1.weight tensor(332.6473, device='cuda:0')\nmap_enc.map_encoder6.norm1.bias tensor(274.7432, device='cuda:0')\nmap_enc.map_encoder6.norm2.weight tensor(324.8335, device='cuda:0')\nmap_enc.map_encoder6.norm2.bias tensor(268.5600, device='cuda:0')\nmap_enc.map_encoder6.two_layers.0.weight tensor(2100.2068, device='cuda:0')\nmap_enc.map_encoder6.two_layers.0.bias tensor(117.9757, device='cuda:0')\nmap_enc.map_encoder6.two_layers.3.weight tensor(4397.4995, device='cuda:0')\nmap_enc.map_encoder6.two_layers.3.bias tensor(260.5939, device='cuda:0')\nmap_enc.map_encoder7.att.in_proj_weight tensor(3165.8547, device='cuda:0')\nmap_enc.map_encoder7.att.in_proj_bias tensor(143.4233, device='cuda:0')\nmap_enc.map_encoder7.att.out_proj.weight tensor(3933.8350, device='cuda:0')\nmap_enc.map_encoder7.att.out_proj.bias tensor(250.6115, device='cuda:0')\nmap_enc.map_encoder7.norm1.weight tensor(325.5135, device='cuda:0')\nmap_enc.map_encoder7.norm1.bias tensor(254.7767, device='cuda:0')\nmap_enc.map_encoder7.norm2.weight tensor(328.3054, device='cuda:0')\nmap_enc.map_encoder7.norm2.bias tensor(253.8134, device='cuda:0')\nmap_enc.map_encoder7.two_layers.0.weight tensor(2123.2056, device='cuda:0')\nmap_enc.map_encoder7.two_layers.0.bias tensor(114.2254, device='cuda:0')\nmap_enc.map_encoder7.two_layers.3.weight tensor(4118.6221, device='cuda:0')\nmap_enc.map_encoder7.two_layers.3.bias tensor(241.1265, device='cuda:0')\nmap_enc.map_encoder8.att.in_proj_weight tensor(3310.0671, device='cuda:0')\nmap_enc.map_encoder8.att.in_proj_bias tensor(140.3016, device='cuda:0')\nmap_enc.map_encoder8.att.out_proj.weight tensor(3703.0747, device='cuda:0')\nmap_enc.map_encoder8.att.out_proj.bias tensor(239.5755, device='cuda:0')\nmap_enc.map_encoder8.norm1.weight tensor(341.9417, device='cuda:0')\nmap_enc.map_encoder8.norm1.bias tensor(262.0062, device='cuda:0')\nmap_enc.map_encoder8.norm2.weight tensor(345.9134, device='cuda:0')\nmap_enc.map_encoder8.norm2.bias tensor(253.6888, device='cuda:0')\nmap_enc.map_encoder8.two_layers.0.weight tensor(2120.7517, device='cuda:0')\nmap_enc.map_encoder8.two_layers.0.bias tensor(112.8895, device='cuda:0')\nmap_enc.map_encoder8.two_layers.3.weight tensor(4317.2007, device='cuda:0')\nmap_enc.map_encoder8.two_layers.3.bias tensor(253.9715, device='cuda:0')\ndec.decoder1.self_att.in_proj_weight tensor(1407.2742, device='cuda:0')\ndec.decoder1.self_att.in_proj_bias tensor(61.8284, device='cuda:0')\ndec.decoder1.self_att.out_proj.weight tensor(1717.6670, device='cuda:0')\ndec.decoder1.self_att.out_proj.bias tensor(101.3369, device='cuda:0')\ndec.decoder1.cross_att.in_proj_weight tensor(2138.6165, device='cuda:0')\ndec.decoder1.cross_att.in_proj_bias tensor(96.9772, device='cuda:0')\ndec.decoder1.cross_att.out_proj.weight tensor(2483.9299, device='cuda:0')\ndec.decoder1.cross_att.out_proj.bias tensor(164.0078, device='cuda:0')\ndec.decoder1.norm1.weight tensor(144.8112, device='cuda:0')\ndec.decoder1.norm1.bias tensor(163.9165, device='cuda:0')\ndec.decoder1.norm2.weight tensor(165.0210, device='cuda:0')\ndec.decoder1.norm2.bias tensor(173.5919, device='cuda:0')\ndec.decoder1.norm3.weight tensor(169.8032, device='cuda:0')\ndec.decoder1.norm3.bias tensor(175.5721, device='cuda:0')\ndec.decoder1.two_layers.0.weight tensor(1015.0079, device='cuda:0')\ndec.decoder1.two_layers.0.bias tensor(66.1346, device='cuda:0')\ndec.decoder1.two_layers.3.weight tensor(2033.7108, device='cuda:0')\ndec.decoder1.two_layers.3.bias tensor(172.5546, device='cuda:0')\ndec.decoder2.self_att.in_proj_weight tensor(1533.6569, device='cuda:0')\ndec.decoder2.self_att.in_proj_bias tensor(99.4525, device='cuda:0')\ndec.decoder2.self_att.out_proj.weight tensor(1909.2598, device='cuda:0')\ndec.decoder2.self_att.out_proj.bias tensor(162.8954, device='cuda:0')\ndec.decoder2.cross_att.in_proj_weight tensor(2251.0881, device='cuda:0')\ndec.decoder2.cross_att.in_proj_bias tensor(100.4042, device='cuda:0')\ndec.decoder2.cross_att.out_proj.weight tensor(2798.2290, device='cuda:0')\ndec.decoder2.cross_att.out_proj.bias tensor(182.8684, device='cuda:0')\ndec.decoder2.norm1.weight tensor(179.5032, device='cuda:0')\ndec.decoder2.norm1.bias tensor(182.7792, device='cuda:0')\ndec.decoder2.norm2.weight tensor(202.2758, device='cuda:0')\ndec.decoder2.norm2.bias tensor(187.3392, device='cuda:0')\ndec.decoder2.norm3.weight tensor(190.8513, device='cuda:0')\ndec.decoder2.norm3.bias tensor(184.9300, device='cuda:0')\ndec.decoder2.two_layers.0.weight tensor(1181.0083, device='cuda:0')\ndec.decoder2.two_layers.0.bias tensor(70.4768, device='cuda:0')\ndec.decoder2.two_layers.3.weight tensor(2470.1204, device='cuda:0')\ndec.decoder2.two_layers.3.bias tensor(184.3594, device='cuda:0')\ndec.decoder3.self_att.in_proj_weight tensor(1641.2604, device='cuda:0')\ndec.decoder3.self_att.in_proj_bias tensor(97.5456, device='cuda:0')\ndec.decoder3.self_att.out_proj.weight tensor(2007.3268, device='cuda:0')\ndec.decoder3.self_att.out_proj.bias tensor(168.6966, device='cuda:0')\ndec.decoder3.cross_att.in_proj_weight tensor(2305.3730, device='cuda:0')\ndec.decoder3.cross_att.in_proj_bias tensor(104.1753, device='cuda:0')\ndec.decoder3.cross_att.out_proj.weight tensor(2862.5449, device='cuda:0')\ndec.decoder3.cross_att.out_proj.bias tensor(181.6640, device='cuda:0')\ndec.decoder3.norm1.weight tensor(192.4777, device='cuda:0')\ndec.decoder3.norm1.bias tensor(182.0266, device='cuda:0')\ndec.decoder3.norm2.weight tensor(222.0732, device='cuda:0')\ndec.decoder3.norm2.bias tensor(191.9539, device='cuda:0')\ndec.decoder3.norm3.weight tensor(218.0256, device='cuda:0')\ndec.decoder3.norm3.bias tensor(197.2724, device='cuda:0')\ndec.decoder3.two_layers.0.weight tensor(1331.4170, device='cuda:0')\ndec.decoder3.two_layers.0.bias tensor(77.9513, device='cuda:0')\ndec.decoder3.two_layers.3.weight tensor(2654.8596, device='cuda:0')\ndec.decoder3.two_layers.3.bias tensor(188.8504, device='cuda:0')\ndec.decoder4.self_att.in_proj_weight tensor(1843.7273, device='cuda:0')\ndec.decoder4.self_att.in_proj_bias tensor(103.7824, device='cuda:0')\ndec.decoder4.self_att.out_proj.weight tensor(2326.9719, device='cuda:0')\ndec.decoder4.self_att.out_proj.bias tensor(187.5144, device='cuda:0')\ndec.decoder4.cross_att.in_proj_weight tensor(2599.8057, device='cuda:0')\ndec.decoder4.cross_att.in_proj_bias tensor(116.5009, device='cuda:0')\ndec.decoder4.cross_att.out_proj.weight tensor(3246.3440, device='cuda:0')\ndec.decoder4.cross_att.out_proj.bias tensor(199.6362, device='cuda:0')\ndec.decoder4.norm1.weight tensor(219.1210, device='cuda:0')\ndec.decoder4.norm1.bias tensor(199.3270, device='cuda:0')\ndec.decoder4.norm2.weight tensor(249.0016, device='cuda:0')\ndec.decoder4.norm2.bias tensor(214.2086, device='cuda:0')\ndec.decoder4.norm3.weight tensor(254.6077, device='cuda:0')\ndec.decoder4.norm3.bias tensor(213.8078, device='cuda:0')\ndec.decoder4.two_layers.0.weight tensor(1632.5414, device='cuda:0')\ndec.decoder4.two_layers.0.bias tensor(92.8567, device='cuda:0')\ndec.decoder4.two_layers.3.weight tensor(3273.0554, device='cuda:0')\ndec.decoder4.two_layers.3.bias tensor(204.0140, device='cuda:0')\ndec.decoder5.self_att.in_proj_weight tensor(2068.7756, device='cuda:0')\ndec.decoder5.self_att.in_proj_bias tensor(109.3633, device='cuda:0')\ndec.decoder5.self_att.out_proj.weight tensor(2698.8464, device='cuda:0')\ndec.decoder5.self_att.out_proj.bias tensor(195.0012, device='cuda:0')\ndec.decoder5.cross_att.in_proj_weight tensor(2937.0249, device='cuda:0')\ndec.decoder5.cross_att.in_proj_bias tensor(127.2441, device='cuda:0')\ndec.decoder5.cross_att.out_proj.weight tensor(3542.1204, device='cuda:0')\ndec.decoder5.cross_att.out_proj.bias tensor(211.4137, device='cuda:0')\ndec.decoder5.norm1.weight tensor(251.9191, device='cuda:0')\ndec.decoder5.norm1.bias tensor(211.1597, device='cuda:0')\ndec.decoder5.norm2.weight tensor(288.9346, device='cuda:0')\ndec.decoder5.norm2.bias tensor(230.9296, device='cuda:0')\ndec.decoder5.norm3.weight tensor(290.1551, device='cuda:0')\ndec.decoder5.norm3.bias tensor(231.8139, device='cuda:0')\ndec.decoder5.two_layers.0.weight tensor(1802.0485, device='cuda:0')\ndec.decoder5.two_layers.0.bias tensor(98.0315, device='cuda:0')\ndec.decoder5.two_layers.3.weight tensor(3489.1040, device='cuda:0')\ndec.decoder5.two_layers.3.bias tensor(226.7504, device='cuda:0')\ndec.decoder6.self_att.in_proj_weight tensor(2381.1797, device='cuda:0')\ndec.decoder6.self_att.in_proj_bias tensor(119.9179, device='cuda:0')\ndec.decoder6.self_att.out_proj.weight tensor(2931.1760, device='cuda:0')\ndec.decoder6.self_att.out_proj.bias tensor(211.4390, device='cuda:0')\ndec.decoder6.cross_att.in_proj_weight tensor(3014.5168, device='cuda:0')\ndec.decoder6.cross_att.in_proj_bias tensor(124.1709, device='cuda:0')\ndec.decoder6.cross_att.out_proj.weight tensor(3796.5342, device='cuda:0')\ndec.decoder6.cross_att.out_proj.bias tensor(222.0695, device='cuda:0')\ndec.decoder6.norm1.weight tensor(288.6478, device='cuda:0')\ndec.decoder6.norm1.bias tensor(222.1729, device='cuda:0')\ndec.decoder6.norm2.weight tensor(297.2121, device='cuda:0')\ndec.decoder6.norm2.bias tensor(229.0353, device='cuda:0')\ndec.decoder6.norm3.weight tensor(283.8757, device='cuda:0')\ndec.decoder6.norm3.bias tensor(221.3986, device='cuda:0')\ndec.decoder6.two_layers.0.weight tensor(1934.0157, device='cuda:0')\ndec.decoder6.two_layers.0.bias tensor(103.4369, device='cuda:0')\ndec.decoder6.two_layers.3.weight tensor(3526.1960, device='cuda:0')\ndec.decoder6.two_layers.3.bias tensor(214.7083, device='cuda:0')\ndec.decoder7.self_att.in_proj_weight tensor(2613.0251, device='cuda:0')\ndec.decoder7.self_att.in_proj_bias tensor(124.7820, device='cuda:0')\ndec.decoder7.self_att.out_proj.weight tensor(3253.1047, device='cuda:0')\ndec.decoder7.self_att.out_proj.bias tensor(204.9518, device='cuda:0')\ndec.decoder7.cross_att.in_proj_weight tensor(3026.4336, device='cuda:0')\ndec.decoder7.cross_att.in_proj_bias tensor(117.0966, device='cuda:0')\ndec.decoder7.cross_att.out_proj.weight tensor(3898.4482, device='cuda:0')\ndec.decoder7.cross_att.out_proj.bias tensor(215.5132, device='cuda:0')\ndec.decoder7.norm1.weight tensor(281.6775, device='cuda:0')\ndec.decoder7.norm1.bias tensor(215.5149, device='cuda:0')\ndec.decoder7.norm2.weight tensor(309.3044, device='cuda:0')\ndec.decoder7.norm2.bias tensor(232.2251, device='cuda:0')\ndec.decoder7.norm3.weight tensor(318.1559, device='cuda:0')\ndec.decoder7.norm3.bias tensor(227.5278, device='cuda:0')\ndec.decoder7.two_layers.0.weight tensor(2015.1056, device='cuda:0')\ndec.decoder7.two_layers.0.bias tensor(104.9258, device='cuda:0')\ndec.decoder7.two_layers.3.weight tensor(3714.9102, device='cuda:0')\ndec.decoder7.two_layers.3.bias tensor(219.1142, device='cuda:0')\ndec.decoder8.self_att.in_proj_weight tensor(2967.6726, device='cuda:0')\ndec.decoder8.self_att.in_proj_bias tensor(130.3828, device='cuda:0')\ndec.decoder8.self_att.out_proj.weight tensor(3477.9363, device='cuda:0')\ndec.decoder8.self_att.out_proj.bias tensor(214.6714, device='cuda:0')\ndec.decoder8.cross_att.in_proj_weight tensor(3588.4963, device='cuda:0')\ndec.decoder8.cross_att.in_proj_bias tensor(144.9968, device='cuda:0')\ndec.decoder8.cross_att.out_proj.weight tensor(4232.4824, device='cuda:0')\ndec.decoder8.cross_att.out_proj.bias tensor(242.0157, device='cuda:0')\ndec.decoder8.norm1.weight tensor(327.5022, device='cuda:0')\ndec.decoder8.norm1.bias tensor(242.4640, device='cuda:0')\ndec.decoder8.norm2.weight tensor(352.9688, device='cuda:0')\ndec.decoder8.norm2.bias tensor(256.4469, device='cuda:0')\ndec.decoder8.norm3.weight tensor(371.3494, device='cuda:0')\ndec.decoder8.norm3.bias tensor(265.5502, device='cuda:0')\ndec.decoder8.two_layers.0.weight tensor(2340.0862, device='cuda:0')\ndec.decoder8.two_layers.0.bias tensor(119.4080, device='cuda:0')\ndec.decoder8.two_layers.3.weight tensor(4439.1362, device='cuda:0')\ndec.decoder8.two_layers.3.bias tensor(251.9724, device='cuda:0')\n"
        }
      ],
      "execution_count": 4,
      "metadata": {
        "jupyter": {
          "source_hidden": false,
          "outputs_hidden": false
        },
        "nteract": {
          "transient": {
            "deleting": false
          }
        },
        "gather": {
          "logged": 1741642391704
        }
      },
      "id": "b2ffae44-cf8a-4215-9bbd-a82410185eca"
    },
    {
      "cell_type": "code",
      "source": [
        "params = ModelParams()\n",
        "track_len = ModelParams().track_len\n",
        "\n",
        "device = 'cuda:0' if torch.cuda.is_available() else 'cpu'\n",
        "\n",
        "train_tracks = np.genfromtxt('tracks/tracks_train.csv')\n",
        "train_world = np.genfromtxt('worlds/worlds_train.csv').repeat(track_len, 0).reshape(train_tracks.shape[0], 10, 16)\n",
        "\n",
        "eval_tracks = np.genfromtxt('tracks/tracks_eval.csv')\n",
        "eval_world = np.genfromtxt('worlds/worlds_eval.csv').repeat(track_len, 0).reshape(eval_tracks.shape[0], 10, 16)\n",
        "\n",
        "test_tracks = np.genfromtxt('tracks/tracks_test.csv')\n",
        "test_world = np.genfromtxt('worlds/worlds_test.csv').repeat(track_len, 0).reshape(test_tracks.shape[0], 10, 16)\n",
        "\n",
        "train_reshaped = train_tracks.reshape(train_tracks.shape[0]//track_len, track_len, train_tracks.shape[1])\n",
        "train_env = train_world.reshape(train_world.shape[0]//track_len, track_len, params.map_size, params.map_size + 6)\n",
        "\n",
        "eval_reshaped = eval_tracks.reshape(eval_tracks.shape[0]//track_len, track_len, eval_tracks.shape[1])\n",
        "eval_env = eval_world.reshape(eval_world.shape[0]//track_len, track_len, params.map_size, params.map_size + 6)\n",
        "\n",
        "test_reshaped = test_tracks.reshape(test_tracks.shape[0]//track_len, track_len, test_tracks.shape[1])\n",
        "test_env = test_world.reshape(test_world.shape[0]//track_len, track_len, params.map_size, params.map_size + 6)\n",
        "\n",
        "train_data = dict()\n",
        "eval_data = dict()\n",
        "test_data = dict()\n",
        "\n",
        "train_data['tracks'] = train_reshaped\n",
        "train_data['map'] = train_env\n",
        "\n",
        "eval_data['tracks'] = eval_reshaped\n",
        "eval_data['map'] = eval_env\n",
        "\n",
        "test_data['tracks'] = test_reshaped\n",
        "test_data['map'] = test_env\n",
        "\n",
        "train_numbers = train_reshaped.shape[0]\n",
        "eval_numbers = eval_reshaped.shape[0]\n",
        "test_numbers = test_reshaped.shape[0]\n",
        "train_dataset = LocalizationDataset(train_data)\n",
        "eval_dataset = LocalizationDataset(eval_data)\n",
        "test_dataset = LocalizationDataset(test_data)\n",
        "\n",
        "train_loader = DataLoader(train_dataset, batch_size=params.batch_size, pin_memory=True, shuffle=True)\n",
        "eval_loader = DataLoader(eval_dataset, batch_size=params.batch_size, pin_memory=True, shuffle=False)\n",
        "test_loader = DataLoader(test_dataset, batch_size=params.batch_size, pin_memory=True, shuffle=False)\n",
        "\n",
        "beacons_mu, beacons_std = torch.tensor(5, device='cuda:0', dtype=torch.float64), torch.tensor(2.87, device='cuda:0', dtype=torch.float64)\n",
        "norm_vec = torch.tensor([10.0000, 10.0000,  2 * torch.pi], device='cuda:0', dtype=torch.float64)"
      ],
      "outputs": [],
      "execution_count": 5,
      "metadata": {
        "jupyter": {
          "source_hidden": false,
          "outputs_hidden": false
        },
        "nteract": {
          "transient": {
            "deleting": false
          }
        },
        "gather": {
          "logged": 1741643020507
        }
      },
      "id": "26880176-65cf-4f6a-950f-b0249c4cfeed"
    },
    {
      "cell_type": "code",
      "source": [
        "def load_checkpoint_run(filepath='dec_project.ptm'):\n",
        "    checkpoint = torch.load(filepath)\n",
        "    print('epoch: ', checkpoint['epoch'])\n",
        "    model.load_state_dict(checkpoint['state_dict'])\n",
        "\n",
        "    try:\n",
        "        optimizer.load_state_dict(checkpoint['optimizer'])\n",
        "    except KeyError:\n",
        "        print(\"Optimizer state missing; initializing a new optimizer.\")\n",
        "\n",
        "    try:\n",
        "        scheduler.load_state_dict(checkpoint['scheduler'])\n",
        "    except KeyError:\n",
        "        print(\"Scheduler state missing; initializing a new scheduler.\")\n",
        "\n",
        "    for parameter in model.parameters():\n",
        "        parameter.requires_grad = True\n",
        "    return model, optimizer, scheduler"
      ],
      "outputs": [],
      "execution_count": 9,
      "metadata": {
        "jupyter": {
          "source_hidden": false,
          "outputs_hidden": false
        },
        "nteract": {
          "transient": {
            "deleting": false
          }
        },
        "gather": {
          "logged": 1741643251199
        }
      },
      "id": "22f60f82-6fec-4582-bfb6-7c8fa568c504"
    },
    {
      "cell_type": "code",
      "source": [
        "model = MainModel().to(device).float()\n",
        "optimizer = torch.optim.AdamW(model.parameters(), weight_decay=1e-4, lr=1e-4)\n",
        "scheduler = CosineWarmupScheduler(optimizer=optimizer, warmup=10, max_iters=200)\n",
        "model, optimizer, scheduler = load_checkpoint_run()"
      ],
      "outputs": [
        {
          "output_type": "stream",
          "name": "stdout",
          "text": "epoch:  20\n"
        }
      ],
      "execution_count": 10,
      "metadata": {
        "jupyter": {
          "source_hidden": false,
          "outputs_hidden": false
        },
        "nteract": {
          "transient": {
            "deleting": false
          }
        },
        "gather": {
          "logged": 1741643262171
        }
      },
      "id": "72283f5d-0cc5-4d7a-b4c8-aeec7d409c5b"
    },
    {
      "cell_type": "code",
      "source": [
        "model_parameters = filter(lambda p: p.requires_grad, model.parameters())\n",
        "params_model = sum([np.prod(p.size()) for p in model_parameters])\n",
        "params_model"
      ],
      "outputs": [
        {
          "output_type": "execute_result",
          "execution_count": 11,
          "data": {
            "text/plain": "14748931"
          },
          "metadata": {}
        }
      ],
      "execution_count": 11,
      "metadata": {
        "jupyter": {
          "source_hidden": false,
          "outputs_hidden": false
        },
        "nteract": {
          "transient": {
            "deleting": false
          }
        },
        "gather": {
          "logged": 1741643262260
        }
      },
      "id": "a2f39d3d-7ff6-47f4-99a3-8ba5d9e741d5"
    },
    {
      "cell_type": "code",
      "source": [
        "epochs = 5000\n",
        "bpdecay = 0.0001\n",
        "replacement_prob = 0.5\n",
        "grad_clip = 5\n",
        "MSE_min = np.Inf\n",
        "eval_min = np.Inf\n",
        "MSE_accum = []\n",
        "bp_decay = params.bpdecay\n",
        "model = MainModel().to(device).float()\n",
        "epoch_best = 0\n",
        "optimizer = torch.optim.AdamW(model.parameters(), weight_decay=2e-4, lr=1e-4)\n",
        "scheduler = CosineWarmupScheduler(optimizer=optimizer, warmup=100, max_iters=2000)\n",
        "model, scheduler, optimizer = load_checkpoint_run()\n",
        "train_loss = []\n",
        "eval_loss = []\n",
        "\n",
        "for epoch in tqdm(range(epochs)):\n",
        "    model.train()\n",
        "    curr_loss1 = 0\n",
        "    for iteration, data in enumerate(train_loader):\n",
        "        model.zero_grad()\n",
        "        beacons0, active0, measurement, motion, location = data\n",
        "        beacons0 = beacons0[:, 0].to(device).float()\n",
        "        beacons0[torch.isnan(beacons0)] = 0\n",
        "        active = active0[:, 0].squeeze(2).to(device).float()\n",
        "        #replacement_mask = (active == 0) & (torch.rand_like(active, dtype=torch.float) < replacement_prob)\n",
        "        #active[replacement_mask] = 1\n",
        "        measurement = measurement.to(device).float()\n",
        "        motion = motion.to(device).float()\n",
        "        beacons = (beacons0 - beacons_mu) / beacons_std\n",
        "        location = location.to(device).float()\n",
        "        loss, _, pred = model.step(motion, measurement, beacons, location, 0.0001, active)\n",
        "        curr_loss1 += loss.to('cpu').detach().numpy() / train_numbers\n",
        "        loss.backward()\n",
        "        torch.nn.utils.clip_grad_norm_(model.parameters(), grad_clip)\n",
        "        optimizer.step()\n",
        "        scheduler.step()\n",
        "    train_loss.append(curr_loss1)\n",
        "\n",
        "    model.eval()\n",
        "    curr_loss2 = 0\n",
        "    y_pred = []\n",
        "    y_true = []\n",
        "    z_pred = []\n",
        "    with torch.no_grad():\n",
        "        for iteration, data in enumerate(eval_loader):\n",
        "            beacons0, active0, measurement, motion, location = data\n",
        "            beacons0 = beacons0[:, 0].to(device).float()\n",
        "            beacons0[torch.isnan(beacons0)] = 0\n",
        "            active = active0[:, 0].squeeze(2).to(device).float()\n",
        "            #replacement_mask = (active == 0) & (torch.rand_like(active, dtype=torch.float) < replacement_prob)\n",
        "            #active[replacement_mask] = 1\n",
        "            measurement = measurement.to(device).float()\n",
        "            motion = motion.to(device).float()\n",
        "            beacons = (beacons0 - beacons_mu) / beacons_std\n",
        "            location = location.to(device).float()\n",
        "            lossx, _, pred = model.step(motion, measurement, beacons, location, 0.0001, active)\n",
        "            curr_loss2 += lossx.to('cpu').detach().numpy() / eval_numbers\n",
        "            y_true_curr = location[:, :, :2]\n",
        "            y_pred_curr = pred[:, :, :2] * model.map_size\n",
        "            y_true.extend(y_true_curr.to('cpu').numpy())\n",
        "            y_pred.extend(y_pred_curr.detach().to('cpu').numpy())\n",
        "\n",
        "    y_true = np.array(y_true)\n",
        "    y_pred = np.array(y_pred)\n",
        "    eval_loss.append(curr_loss2)\n",
        "\n",
        "    y_true = y_true.reshape(len(y_true), track_len, 2)\n",
        "    y_pred = y_pred.reshape(len(y_pred), track_len, 2)\n",
        "\n",
        "    X = (y_pred[:, :-1] - y_true[:, 1:]).reshape(y_pred.shape[0]*(track_len-1), 2)\n",
        "    MSE = (X**2).sum(axis=-1).mean()\n",
        "    if MSE < MSE_min:\n",
        "        MSE_min = MSE\n",
        "    if curr_loss2 < eval_min:\n",
        "        epoch_best = epoch\n",
        "        state = {\n",
        "            'epoch': epoch,\n",
        "            'state_dict': model.state_dict(),\n",
        "            'optimizer': optimizer.state_dict(),\n",
        "            'scheduler': scheduler.state_dict()\n",
        "        }\n",
        "        filepath='dec_project.ptm'\n",
        "        torch.save(state, filepath)\n",
        "        eval_min = curr_loss2\n",
        "\n",
        "    print('epoch, MSE', epoch, np.round(MSE, 2), 'min MSE', np.round(MSE_min, 2))#, np.round(MSE_MKF, 2))\n",
        "    MSE_accum.append(MSE)\n",
        "\n",
        "    clear_output(True)\n",
        "    plt.figure()\n",
        "    plt.title(str(np.round(MSE_min, 4)) + ' epoch ' + str(epoch_best))\n",
        "    plt.plot(train_loss, label='train loss')\n",
        "    plt.plot(eval_loss, label='eval loss')\n",
        "    #plt.plot(MSE_accum, label='MSE')\n",
        "    plt.legend()\n",
        "    plt.show()"
      ],
      "outputs": [
        {
          "output_type": "display_data",
          "data": {
            "text/plain": "<Figure size 640x480 with 1 Axes>",
            "image/png": "[encoded data removed]"
          },
          "metadata": {}
        },
        {
          "output_type": "stream",
          "name": "stderr",
          "text": "\r  0%|          | 3/5000 [18:22<509:48:05, 367.28s/it]"
        }
      ],
      "execution_count": null,
      "metadata": {
        "jupyter": {
          "source_hidden": false,
          "outputs_hidden": false
        },
        "nteract": {
          "transient": {
            "deleting": false
          }
        },
        "gather": {
          "logged": 1741634099958
        }
      },
      "id": "572f089d-cbdc-44f1-8b07-4b2ed6a02501"
    },
    {
      "cell_type": "code",
      "source": [
        "plt.figure()\n",
        "plt.title(str(np.round(MSE_min, 4)) + ' epoch ' + str(epoch_best))\n",
        "#plt.plot(train_loss, label='train loss')\n",
        "#plt.plot(eval_loss, label='eval loss')\n",
        "plt.plot(MSE_accum, label='MSE')\n",
        "plt.legend()\n",
        "plt.show()"
      ],
      "outputs": [
        {
          "output_type": "display_data",
          "data": {
            "text/plain": "<Figure size 640x480 with 1 Axes>",
            "image/png": "[encoded data removed]"
          },
          "metadata": {}
        }
      ],
      "execution_count": 13,
      "metadata": {
        "jupyter": {
          "source_hidden": false,
          "outputs_hidden": false
        },
        "nteract": {
          "transient": {
            "deleting": false
          }
        },
        "gather": {
          "logged": 1741663914507
        }
      },
      "id": "20573f50-96f0-45fe-a3dc-5f8d73c06ef0"
    },
    {
      "cell_type": "code",
      "source": [
        "def load_checkpoint(filepath='dec_project.ptm'):\n",
        "    checkpoint = torch.load(filepath)\n",
        "    print('epoch: ', checkpoint['epoch'])\n",
        "    model.load_state_dict(checkpoint['state_dict'])\n",
        "    model.eval()\n",
        "    for parameter in model.parameters():\n",
        "        parameter.requires_grad = False\n",
        "    return model\n",
        "\n",
        "bp_decay = 1e-4 #params.bpdecay\n",
        "model = MainModel().to(device).float()\n",
        "model = load_checkpoint()\n",
        "model.eval()\n",
        "\n",
        "y_true = []\n",
        "y_pred = []\n",
        "\n",
        "with torch.no_grad():\n",
        "    for iteration, data in enumerate(test_loader):\n",
        "        beacons0, active0, measurement, motion, location = data\n",
        "        beacons0 = beacons0[:, 0].to(device).float()\n",
        "        beacons0[torch.isnan(beacons0)] = 0\n",
        "        active = active0[:, 0].squeeze(2).to(device).float()\n",
        "        #replacement_mask = (active == 0) & (torch.rand_like(active, dtype=torch.float) < replacement_prob)\n",
        "        #active[replacement_mask] = 1\n",
        "        measurement = measurement.to(device).float()\n",
        "        motion = motion.to(device).float()\n",
        "        beacons = (beacons0 - beacons_mu) / beacons_std\n",
        "        location = location.to(device).float()\n",
        "        lossx, _, pred = model.step(motion, measurement, beacons, location, 0.0001, active)\n",
        "        curr_loss2 += lossx.to('cpu').detach().numpy() / eval_numbers\n",
        "        y_true_curr = location[:, :, :2]\n",
        "        y_pred_curr = pred[:, :, :2] * model.map_size\n",
        "        y_true.extend(y_true_curr.to('cpu').numpy())\n",
        "        y_pred.extend(y_pred_curr.detach().to('cpu').numpy())\n",
        "\n",
        "y_true = np.array(y_true)\n",
        "y_pred = np.array(y_pred)\n",
        "y_true = y_true.reshape(len(y_true), track_len, 2)\n",
        "y_pred = y_pred.reshape(len(y_pred), track_len, 2)\n",
        "\n",
        "X = (y_pred - y_true).reshape(y_pred.shape[0]*track_len, 2)\n",
        "MSE = (X**2).sum(axis=-1).mean()\n",
        "print(MSE)"
      ],
      "outputs": [
        {
          "output_type": "stream",
          "name": "stdout",
          "text": "epoch:  8\n0.20630503\n"
        }
      ],
      "execution_count": 14,
      "metadata": {
        "jupyter": {
          "source_hidden": false,
          "outputs_hidden": false
        },
        "nteract": {
          "transient": {
            "deleting": false
          }
        },
        "gather": {
          "logged": 1741663949901
        }
      },
      "id": "fc25fc35-3bf7-4281-a55f-2a009d2f915a"
    },
    {
      "cell_type": "code",
      "source": [
        "idx = 29\n",
        "plt.plot(y_true[idx, :, 0], y_true[idx, :, 1])\n",
        "plt.plot(y_pred[idx, :, 0], y_pred[idx, :, 1])\n",
        "plt.xlim(0, 10)\n",
        "plt.ylim(0, 10)"
      ],
      "outputs": [
        {
          "output_type": "execute_result",
          "execution_count": 20,
          "data": {
            "text/plain": "(0.0, 10.0)"
          },
          "metadata": {}
        },
        {
          "output_type": "display_data",
          "data": {
            "text/plain": "<Figure size 640x480 with 1 Axes>",
            "image/png": "[encoded data removed]"
          },
          "metadata": {}
        }
      ],
      "execution_count": 20,
      "metadata": {
        "jupyter": {
          "source_hidden": false,
          "outputs_hidden": false
        },
        "nteract": {
          "transient": {
            "deleting": false
          }
        },
        "gather": {
          "logged": 1741663976468
        }
      },
      "id": "a51ab0df-3a94-466e-a0f1-1845bd53495a"
    },
    {
      "cell_type": "code",
      "source": [
        "def load_checkpoint(filepath='dec_project.ptm'):\n",
        "    checkpoint = torch.load(filepath)\n",
        "    print('epoch: ', checkpoint['epoch'])\n",
        "    model.load_state_dict(checkpoint['state_dict'])\n",
        "    model.eval()\n",
        "    for parameter in model.parameters():\n",
        "        parameter.requires_grad = False\n",
        "    return model\n",
        "    \n",
        "params = ModelParams()\n",
        "bp_decay = params.bpdecay\n",
        "model = MainModel().to(device).float()\n",
        "model = load_checkpoint()\n",
        "model.eval()\n",
        "\n",
        "#for look_back in [1, 5, 10, 20, 30, 40, 50]:\n",
        "for look_back in [50]:\n",
        "    y_pred = []\n",
        "    y_true = []\n",
        "    all_atts = []\n",
        "    all_active = []\n",
        "    with torch.no_grad():\n",
        "        for iteration, data in enumerate(test_loader):\n",
        "            beacons0, active0, measurement, motion, location = data\n",
        "            beacons0 = beacons0[:, 0].to(device).float()\n",
        "            active = active0[:, 0].squeeze(2).to(device).float()\n",
        "            #active = torch.ones_like(active0[:, 0].squeeze(2)).to(device).float()\n",
        "            measurement = measurement.to(device).float()\n",
        "            motion = motion.to(device).float()\n",
        "            beacons = (beacons0 - beacons_mu) / beacons_std\n",
        "            location = location.to(device).float()\n",
        "            att, pred = model.test(motion, measurement, beacons, active=active, look_back=look_back)\n",
        "            y_true_curr = location[:, :, :2]\n",
        "            y_true_curr = location[:, :, :2]\n",
        "            y_pred_curr = pred[:, :, :2] * model.map_size\n",
        "            y_true.extend(y_true_curr.to('cpu').numpy())\n",
        "            y_pred.extend(y_pred_curr.detach().to('cpu').numpy())\n",
        "            all_atts.extend(att.detach().to('cpu').numpy())\n",
        "            all_active.extend(active.detach().to('cpu').numpy())\n",
        "    y_true = np.array(y_true)\n",
        "    y_pred = np.array(y_pred)\n",
        "    all_atts = np.array(all_atts)\n",
        "    all_active = np.array(all_active)\n",
        "\n",
        "    y_true = y_true.reshape(len(y_true), track_len, 2)\n",
        "    y_pred = y_pred.reshape(len(y_pred), track_len, 2)\n",
        "\n",
        "    X = (y_pred[:, :-1] - y_true[:, 1:]).reshape(y_pred.shape[0]*(track_len-1), 2)\n",
        "    MSE_mean = (X**2).sum(axis=-1).mean()\n",
        "    MSE_std = (X**2).sum(axis=-1).std()\n",
        "    FSE_mean = (((y_pred[:, :-1] - y_true[:, 1:])[:, -1]**2).sum(axis=-1)**0.5).mean()\n",
        "    FSE_std = (((y_pred[:, :-1] - y_true[:, 1:])[:, -1]**2).sum(axis=-1)**0.5).std()\n",
        "    print(look_back, MSE_mean, MSE_std, FSE_mean, FSE_std)"
      ],
      "outputs": [
        {
          "output_type": "stream",
          "name": "stderr",
          "text": "/anaconda/envs/jupyter_env/lib/python3.8/site-packages/torch/nn/modules/activation.py:1160: UserWarning: Converting mask without torch.bool dtype to bool; this will negatively affect performance. Prefer to use a boolean mask directly. (Triggered internally at ../aten/src/ATen/native/transformers/attention.cpp:150.)\n  return torch._native_multi_head_attention(\n"
        },
        {
          "output_type": "stream",
          "name": "stdout",
          "text": "50 0.5607700013711411 3.2492979455737494 0.3377828373070172 0.24845101199315076\n"
        }
      ],
      "execution_count": 15,
      "metadata": {
        "jupyter": {
          "source_hidden": false,
          "outputs_hidden": false
        },
        "nteract": {
          "transient": {
            "deleting": false
          }
        },
        "gather": {
          "logged": 1740861152018
        }
      },
      "id": "11d2f0d1-6aee-48b3-9101-1c026c0c58ce"
    },
    {
      "cell_type": "code",
      "source": [],
      "outputs": [],
      "execution_count": null,
      "metadata": {
        "jupyter": {
          "source_hidden": false,
          "outputs_hidden": false
        },
        "nteract": {
          "transient": {
            "deleting": false
          }
        }
      },
      "id": "efb07807-8a8c-4bab-95e4-2e416adaf176"
    },
    {
      "cell_type": "code",
      "source": [],
      "outputs": [],
      "execution_count": null,
      "metadata": {
        "jupyter": {
          "source_hidden": false,
          "outputs_hidden": false
        },
        "nteract": {
          "transient": {
            "deleting": false
          }
        }
      },
      "id": "b3b421e4-5058-4bad-9941-b18835c6349f"
    },
    {
      "cell_type": "code",
      "source": [],
      "outputs": [],
      "execution_count": null,
      "metadata": {
        "jupyter": {
          "source_hidden": false,
          "outputs_hidden": false
        },
        "nteract": {
          "transient": {
            "deleting": false
          }
        }
      },
      "id": "4096ef88-3109-4e1a-b4b6-ffa1bf47248d"
    }
  ],
  "metadata": {
    "notebookPath": "Jup_main.ipynb",
    "colab": {
      "gpuType": "V100",
      "machine_shape": "hm",
      "provenance": []
    },
    "accelerator": "GPU",
    "gpuClass": "standard",
    "microsoft": {
      "ms_spell_check": {
        "ms_spell_check_language": "en"
      },
      "host": {
        "AzureML": {
          "notebookHasBeenCompleted": true
        }
      }
    },
    "kernel_info": {
      "name": "python3"
    },
    "language_info": {
      "name": "python",
      "version": "3.8.5",
      "mimetype": "text/x-python",
      "codemirror_mode": {
        "name": "ipython",
        "version": 3
      },
      "pygments_lexer": "ipython3",
      "nbconvert_exporter": "python",
      "file_extension": ".py"
    },
    "notebookId": "2eff6be8-f7ea-4468-a171-8075d4bcb638",
    "kernelspec": {
      "name": "python3",
      "language": "python",
      "display_name": "Python 3 (ipykernel)"
    },
    "nteract": {
      "version": "nteract-front-end@1.0.0"
    }
  },
  "nbformat": 4,
  "nbformat_minor": 5
}